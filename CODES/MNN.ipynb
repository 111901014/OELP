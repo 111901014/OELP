{
  "nbformat": 4,
  "nbformat_minor": 0,
  "metadata": {
    "colab": {
      "name": "MNN.ipynb",
      "provenance": []
    },
    "kernelspec": {
      "name": "python3",
      "display_name": "Python 3"
    },
    "language_info": {
      "name": "python"
    },
    "accelerator": "GPU"
  },
  "cells": [
    {
      "cell_type": "code",
      "source": [
        "# Importing libraries initially required\n",
        "import matplotlib.pyplot as plt\n",
        "import numpy as np\n",
        "import tensorflow\n",
        "import os\n",
        "import cv2\n",
        "from matplotlib.pyplot import imread\n",
        "import tensorflow as tf\n",
        "import gc"
      ],
      "metadata": {
        "id": "fFgJSGDuJpb4"
      },
      "execution_count": 43,
      "outputs": []
    },
    {
      "cell_type": "code",
      "source": [
        "# Define image size\n",
        "IMG_SIZE = 32\n",
        "\n",
        "def process_image(image_path):\n",
        "  \"\"\"\n",
        "  Takes an image file path and turns it into a Tensor.\n",
        "  \"\"\"\n",
        "  # Read in image file\n",
        "  image = tf.io.read_file(image_path)\n",
        "  # Turn the jpeg image into numerical Tensor with 3 colour channels (Red, Green, Blue)\n",
        "  image = tf.image.decode_jpeg(image, channels=3)\n",
        "  # Convert the colour channel values from 0-225 values to 0-1 values\n",
        "  image = tf.image.convert_image_dtype(image, tf.float32)\n",
        "  # Resize the image to our desired size (224, 244)\n",
        "  image = tf.image.resize(image, size=[IMG_SIZE, IMG_SIZE])\n",
        "  return image"
      ],
      "metadata": {
        "id": "hIXxREk8zihP"
      },
      "execution_count": 44,
      "outputs": []
    },
    {
      "cell_type": "code",
      "source": [
        "# loading the dataset for training and testing.\n",
        "path = '/content/drive/MyDrive/IMAGE_DATASET'\n",
        "x_train = []\n",
        "x_test = []\n",
        "y_train = []\n",
        "y_test = []\n",
        "categories = ['regular','pneumonia','covid']\n",
        "## ------------0----------1-----------2-----\n",
        "\n",
        "\n",
        "\n",
        "for cat in categories:\n",
        "  for im in os.listdir(os.path.join(path,'train_'+cat)):\n",
        "    img= os.path.join(path,'train_'+cat,im)\n",
        "    np_img = process_image(img)\n",
        "    x_train.append(np_img)\n",
        "    if cat == 'regular':\n",
        "      y_train.append(0)\n",
        "    if cat == 'pneumonia':\n",
        "      y_train.append(1)\n",
        "    if cat == 'covid':\n",
        "      y_train.append(2)\n",
        "  for im in os.listdir(os.path.join(path,'test_'+cat)):\n",
        "    img= os.path.join(path,'test_'+cat,im)\n",
        "    np_img = process_image(img)\n",
        "    x_test.append(np_img)\n",
        "    if cat == 'regular':\n",
        "      y_test.append(0)\n",
        "    if cat == 'pneumonia':\n",
        "      y_test.append(1)\n",
        "    if cat == 'covid':\n",
        "      y_test.append(2)\n",
        "\n",
        "x_train = np.array(x_train)\n",
        "x_test = np.array(x_test)\n",
        "y_train = np.array(y_train)\n",
        "y_test = np.array(y_test)"
      ],
      "metadata": {
        "id": "RKIei1sKyp3m"
      },
      "execution_count": 45,
      "outputs": []
    },
    {
      "cell_type": "code",
      "source": [
        "print(x_train.shape)\n",
        "print(x_test.shape)"
      ],
      "metadata": {
        "colab": {
          "base_uri": "https://localhost:8080/"
        },
        "id": "6wLp0UMI3ghB",
        "outputId": "a04213fc-9ca6-4c7a-b6df-7f4761f2e7bf"
      },
      "execution_count": 46,
      "outputs": [
        {
          "output_type": "stream",
          "name": "stdout",
          "text": [
            "(1935, 32, 32, 3)\n",
            "(491, 32, 32, 3)\n"
          ]
        }
      ]
    },
    {
      "cell_type": "code",
      "source": [
        "#normalizing the data\n",
        "x_train=x_train/255.0\n",
        "x_train.shape\n",
        "x_test=x_test/255.0\n",
        "x_test.shape"
      ],
      "metadata": {
        "id": "ve9UKD8GNYVO",
        "colab": {
          "base_uri": "https://localhost:8080/"
        },
        "outputId": "7eb0cf9b-65ce-4aef-fd82-c771df980760"
      },
      "execution_count": 47,
      "outputs": [
        {
          "output_type": "execute_result",
          "data": {
            "text/plain": [
              "(491, 32, 32, 3)"
            ]
          },
          "metadata": {},
          "execution_count": 47
        }
      ]
    },
    {
      "cell_type": "markdown",
      "source": [
        "![MNN TREE.png](data:image/png;base64,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)"
      ],
      "metadata": {
        "id": "cqu4A4hSyy5C"
      }
    },
    {
      "cell_type": "markdown",
      "source": [
        "# MNN MODEL"
      ],
      "metadata": {
        "id": "tRQLZx0XURhO"
      }
    },
    {
      "cell_type": "code",
      "source": [
        "import tensorflow as tf\n",
        "from tensorflow.keras import models,layers\n",
        "\n",
        "def root_module():\n",
        "    conv= models.Sequential([\n",
        "    layers.Conv2D(32,(3,3), activation = 'relu', kernel_initializer = 'random_normal', padding = 'same', input_shape = (32,32,3)),\n",
        "    layers.Conv2D(32,(3,3), activation = 'relu', kernel_initializer = 'random_normal', padding = 'same'),\n",
        "    tf.keras.layers.MaxPooling2D((2,2)),\n",
        "              ])   \n",
        "    out= models.Sequential([\n",
        "        conv,\n",
        "        layers.Flatten(),\n",
        "        layers.Dense(128, activation = 'relu', kernel_initializer = 'random_normal'),\n",
        "        layers.Dense(10, activation = 'softmax')\n",
        "              ])  \n",
        "    out.compile(optimizer=opt, loss='sparse_categorical_crossentropy', metrics=['accuracy'])\n",
        "    out.fit(x_train,y_train,8,epochs=15)\n",
        "\n",
        "    return conv, out"
      ],
      "metadata": {
        "id": "9rv4IaRqUUzJ"
      },
      "execution_count": 48,
      "outputs": []
    },
    {
      "cell_type": "code",
      "source": [
        "print(x_train.shape)\n",
        "print(x_test.shape)"
      ],
      "metadata": {
        "colab": {
          "base_uri": "https://localhost:8080/"
        },
        "id": "s5zb7ldx6-0e",
        "outputId": "ceb757c8-2b86-455f-ad0a-18425d7c8ce6"
      },
      "execution_count": 49,
      "outputs": [
        {
          "output_type": "stream",
          "name": "stdout",
          "text": [
            "(1935, 32, 32, 3)\n",
            "(491, 32, 32, 3)\n"
          ]
        }
      ]
    },
    {
      "cell_type": "code",
      "source": [
        "def sg0_mod(root_conv):\n",
        "    \n",
        "    conv= models.Sequential([\n",
        "    root_conv,\n",
        "    layers.Conv2D(64,(3,3), activation = 'relu', kernel_initializer = 'random_normal', padding = 'same'),\n",
        "    layers.Conv2D(64,(3,3), activation = 'relu', kernel_initializer = 'random_normal', padding = 'same'),\n",
        "    tf.keras.layers.MaxPooling2D((2,2)),\n",
        "              ])   \n",
        "    out= models.Sequential([\n",
        "        conv,\n",
        "        layers.Flatten(),\n",
        "        layers.Dense(128, activation = 'relu', kernel_initializer = 'random_normal'),\n",
        "        layers.Dense(10, activation = 'softmax')\n",
        "              ])  \n",
        "\n",
        "    return  conv, out\n",
        "\n",
        "\n",
        "def sg1_mod(root_conv):\n",
        "    conv= models.Sequential([\n",
        "        root_conv,\n",
        "        layers.Conv2D(64,(3,3), activation = 'relu', kernel_initializer = 'random_normal', padding = 'same'),\n",
        "        layers.Conv2D(64,(3,3), activation = 'relu', kernel_initializer = 'random_normal', padding = 'same'),\n",
        "        tf.keras.layers.MaxPooling2D((2,2)),\n",
        "              ])  \n",
        "    out= models.Sequential([\n",
        "        conv,\n",
        "        layers.Flatten(),\n",
        "        layers.Dense(128, activation = 'relu', kernel_initializer = 'random_normal'),\n",
        "        layers.Dense(10, activation = 'softmax')\n",
        "                  ])  \n",
        "    return out"
      ],
      "metadata": {
        "id": "iH0Zqh2tKEA3"
      },
      "execution_count": 64,
      "outputs": []
    },
    {
      "cell_type": "code",
      "source": [
        "opt = tensorflow.keras.optimizers.Adam(learning_rate=0.001)\n",
        "root_conv,root=root_module()"
      ],
      "metadata": {
        "id": "r_1k5EVlp56s",
        "colab": {
          "base_uri": "https://localhost:8080/"
        },
        "outputId": "b781a027-59f0-448b-be53-290ce243dddc"
      },
      "execution_count": 78,
      "outputs": [
        {
          "output_type": "stream",
          "name": "stdout",
          "text": [
            "Epoch 1/15\n",
            "242/242 [==============================] - 2s 6ms/step - loss: 1.1243 - accuracy: 0.4584\n",
            "Epoch 2/15\n",
            "242/242 [==============================] - 1s 6ms/step - loss: 0.8041 - accuracy: 0.6326\n",
            "Epoch 3/15\n",
            "242/242 [==============================] - 1s 6ms/step - loss: 0.3360 - accuracy: 0.8755\n",
            "Epoch 4/15\n",
            "242/242 [==============================] - 1s 6ms/step - loss: 0.1842 - accuracy: 0.9406\n",
            "Epoch 5/15\n",
            "242/242 [==============================] - 1s 6ms/step - loss: 0.1257 - accuracy: 0.9659\n",
            "Epoch 6/15\n",
            "242/242 [==============================] - 1s 6ms/step - loss: 0.0760 - accuracy: 0.9757\n",
            "Epoch 7/15\n",
            "242/242 [==============================] - 1s 6ms/step - loss: 0.0530 - accuracy: 0.9850\n",
            "Epoch 8/15\n",
            "242/242 [==============================] - 1s 6ms/step - loss: 0.0588 - accuracy: 0.9793\n",
            "Epoch 9/15\n",
            "242/242 [==============================] - 1s 6ms/step - loss: 0.0384 - accuracy: 0.9876\n",
            "Epoch 10/15\n",
            "242/242 [==============================] - 1s 6ms/step - loss: 0.0345 - accuracy: 0.9881\n",
            "Epoch 11/15\n",
            "242/242 [==============================] - 1s 6ms/step - loss: 0.0339 - accuracy: 0.9886\n",
            "Epoch 12/15\n",
            "242/242 [==============================] - 1s 6ms/step - loss: 0.0410 - accuracy: 0.9876\n",
            "Epoch 13/15\n",
            "242/242 [==============================] - 1s 6ms/step - loss: 0.0267 - accuracy: 0.9886\n",
            "Epoch 14/15\n",
            "242/242 [==============================] - 1s 6ms/step - loss: 0.0178 - accuracy: 0.9953\n",
            "Epoch 15/15\n",
            "242/242 [==============================] - 2s 7ms/step - loss: 0.0231 - accuracy: 0.9943\n"
          ]
        }
      ]
    },
    {
      "cell_type": "code",
      "source": [
        "root.save('root.h5')"
      ],
      "metadata": {
        "id": "sLs8T_y5p6wW"
      },
      "execution_count": 79,
      "outputs": []
    },
    {
      "cell_type": "code",
      "source": [
        "import keras\n",
        "root_mod = tf.keras.models.load_model('root.h5')\n",
        "\n",
        "loss,va1= root_mod.evaluate(x_test,y_test,8)"
      ],
      "metadata": {
        "colab": {
          "base_uri": "https://localhost:8080/"
        },
        "id": "IN2WOT-Z1BQv",
        "outputId": "aea4c100-94c9-4367-fd5a-c68f8faa20c8"
      },
      "execution_count": 80,
      "outputs": [
        {
          "output_type": "stream",
          "name": "stdout",
          "text": [
            "62/62 [==============================] - 0s 4ms/step - loss: 5.5220 - accuracy: 0.6273\n"
          ]
        }
      ]
    },
    {
      "cell_type": "code",
      "source": [
        "from keras.utils.vis_utils import plot_model\n",
        "plot_model(root, to_file='root.png', show_shapes=True, show_layer_names=True)"
      ],
      "metadata": {
        "id": "eTpOv7c8p9O-",
        "colab": {
          "base_uri": "https://localhost:8080/",
          "height": 533
        },
        "outputId": "3656f885-f164-4dc2-89f6-f37bc3da0c60"
      },
      "execution_count": 81,
      "outputs": [
        {
          "output_type": "execute_result",
          "data": {
            "text/plain": [
              "<IPython.core.display.Image object>"
            ],
            "image/png": "[encoded data removed]"
          },
          "metadata": {},
          "execution_count": 81
        }
      ]
    },
    {
      "cell_type": "code",
      "source": [
        "gc.collect()"
      ],
      "metadata": {
        "id": "Px1Ii8gIqAAH",
        "colab": {
          "base_uri": "https://localhost:8080/"
        },
        "outputId": "68144eb7-6856-40ac-d0b9-6e5ed38ac798"
      },
      "execution_count": 82,
      "outputs": [
        {
          "output_type": "execute_result",
          "data": {
            "text/plain": [
              "6627"
            ]
          },
          "metadata": {},
          "execution_count": 82
        }
      ]
    },
    {
      "cell_type": "code",
      "source": [
        "#from root\n",
        "MS1=6\n",
        "\n",
        "#initializing for reference\n",
        "va2=0\n",
        "MS2=0\n",
        "threshold=0.1\n",
        "\n",
        "def delta_AD(va1,va2,MS1,MS2):\n",
        "  AD=((va2-va1)/(MS2-MS1))\n",
        "  return AD"
      ],
      "metadata": {
        "id": "Z4Er3CZSqCV_"
      },
      "execution_count": 83,
      "outputs": []
    },
    {
      "cell_type": "code",
      "source": [
        "AD_temp=delta_AD(va1,va2,MS1,MS2)"
      ],
      "metadata": {
        "id": "ai73FVQwqEr9"
      },
      "execution_count": 84,
      "outputs": []
    },
    {
      "cell_type": "code",
      "source": [
        "print(AD_temp)\n",
        "print(va1,va2,MS1,MS2)\n",
        "\n",
        "print(\"Accuracy of root node \",va1*100)"
      ],
      "metadata": {
        "id": "9sSd8Rj4qG1V",
        "colab": {
          "base_uri": "https://localhost:8080/"
        },
        "outputId": "2bfe0faf-d6c2-45dc-b6de-fde54ef2e2f7"
      },
      "execution_count": 85,
      "outputs": [
        {
          "output_type": "stream",
          "name": "stdout",
          "text": [
            "0.10454854369163513\n",
            "0.6272912621498108 0 6 0\n",
            "Accuracy of root node  62.72912621498108\n"
          ]
        }
      ]
    },
    {
      "cell_type": "code",
      "source": [
        "y=len(y_test)\n",
        "\n",
        "AD0=AD_temp\n",
        "AD1=AD_temp\n",
        "\n",
        "va_g0=0\n",
        "va_g1=0\n",
        "\n",
        "batch_size=16\n",
        "lr=0.0001\n",
        "opt_02 = tensorflow.keras.optimizers.Adam(learning_rate=0.001)\n",
        "\n",
        "ep=10\n",
        "\n",
        "sg1_conv=0\n",
        "for i in range(y):\n",
        "    if y_test[i] in [0] :\n",
        "          if (AD0>threshold):\n",
        "            print('super group 0 : AD = ',AD0)\n",
        "            sg0_conv, sg0=sg0_mod(root_conv)\n",
        "            sg0.compile(optimizer=opt_02, loss='sparse_categorical_crossentropy', metrics=['accuracy'])\n",
        "            sg0_details=sg0.fit(x_train, y_train, batch_size, epochs=10)\n",
        "            loss,va2=sg0.evaluate(x_test,y_test)\n",
        "            AD0=delta_AD(va1,va2,MS1,MS2)\n",
        "            va_g0=va2\n",
        "            print('super group 0 : AD = ',AD0)\n",
        "            if(AD0<threshold):\n",
        "                sg0.save('sg0.h5')\n",
        "            MS2=9\n",
        "gc.collect()"
      ],
      "metadata": {
        "id": "HXh9Zv1mqImN",
        "colab": {
          "base_uri": "https://localhost:8080/"
        },
        "outputId": "9a66bb2d-0afc-40b9-9c2e-09098905bd1d"
      },
      "execution_count": 86,
      "outputs": [
        {
          "output_type": "stream",
          "name": "stdout",
          "text": [
            "super group 0 : AD =  0.10454854369163513\n",
            "Epoch 1/10\n",
            "121/121 [==============================] - 2s 10ms/step - loss: 0.4217 - accuracy: 0.8424\n",
            "Epoch 2/10\n",
            "121/121 [==============================] - 1s 10ms/step - loss: 0.1282 - accuracy: 0.9550\n",
            "Epoch 3/10\n",
            "121/121 [==============================] - 1s 10ms/step - loss: 0.0402 - accuracy: 0.9871\n",
            "Epoch 4/10\n",
            "121/121 [==============================] - 1s 10ms/step - loss: 0.0333 - accuracy: 0.9912\n",
            "Epoch 5/10\n",
            "121/121 [==============================] - 1s 10ms/step - loss: 0.0358 - accuracy: 0.9855\n",
            "Epoch 6/10\n",
            "121/121 [==============================] - 1s 10ms/step - loss: 0.0128 - accuracy: 0.9974\n",
            "Epoch 7/10\n",
            "121/121 [==============================] - 1s 10ms/step - loss: 0.0105 - accuracy: 0.9959\n",
            "Epoch 8/10\n",
            "121/121 [==============================] - 1s 10ms/step - loss: 0.0337 - accuracy: 0.9881\n",
            "Epoch 9/10\n",
            "121/121 [==============================] - 1s 10ms/step - loss: 0.0193 - accuracy: 0.9943\n",
            "Epoch 10/10\n",
            "121/121 [==============================] - 1s 10ms/step - loss: 0.0230 - accuracy: 0.9922\n",
            "16/16 [==============================] - 0s 7ms/step - loss: 4.7351 - accuracy: 0.6171\n",
            "super group 0 : AD =  0.001697222391764323\n"
          ]
        },
        {
          "output_type": "execute_result",
          "data": {
            "text/plain": [
              "2875"
            ]
          },
          "metadata": {},
          "execution_count": 86
        }
      ]
    },
    {
      "cell_type": "code",
      "source": [
        "for i in range(y):\n",
        "    if y_test[i] in [1,2] :\n",
        "          sg0_conv,sg0=sg0_mod(root_conv)\n",
        "          if (AD1>threshold):\n",
        "            sg1=sg1_mod(sg0_conv)\n",
        "            print('Super group 1: AD = ',AD1)\n",
        "            sg1.compile(optimizer=opt_02, loss='sparse_categorical_crossentropy', metrics=['accuracy'])\n",
        "            sg1_details=sg1.fit(x_train, y_train, batch_size, epochs=10)\n",
        "            loss,va2=sg1.evaluate(x_test,y_test)\n",
        "            AD1=delta_AD(va1,va2,MS1,MS2)\n",
        "            va_g1=va2\n",
        "            print('super group 1 : AD = ',AD1)\n",
        "            if(AD1<threshold):\n",
        "                sg1.save('sg1.h5')\n",
        "            MS2=9\n",
        "gc.collect()"
      ],
      "metadata": {
        "id": "XnOhtBRGrxU3",
        "colab": {
          "base_uri": "https://localhost:8080/"
        },
        "outputId": "7d13c256-f6b9-442c-c246-4624681116a6"
      },
      "execution_count": 87,
      "outputs": [
        {
          "output_type": "stream",
          "name": "stdout",
          "text": [
            "Super group 1: AD =  0.10454854369163513\n",
            "Epoch 1/10\n",
            "121/121 [==============================] - 2s 12ms/step - loss: 0.7557 - accuracy: 0.6977\n",
            "Epoch 2/10\n",
            "121/121 [==============================] - 1s 12ms/step - loss: 0.1821 - accuracy: 0.9401\n",
            "Epoch 3/10\n",
            "121/121 [==============================] - 1s 12ms/step - loss: 0.0792 - accuracy: 0.9726\n",
            "Epoch 4/10\n",
            "121/121 [==============================] - 1s 12ms/step - loss: 0.0458 - accuracy: 0.9855\n",
            "Epoch 5/10\n",
            "121/121 [==============================] - 1s 12ms/step - loss: 0.0273 - accuracy: 0.9917\n",
            "Epoch 6/10\n",
            "121/121 [==============================] - 1s 12ms/step - loss: 0.0390 - accuracy: 0.9860\n",
            "Epoch 7/10\n",
            "121/121 [==============================] - 1s 12ms/step - loss: 0.0258 - accuracy: 0.9902\n",
            "Epoch 8/10\n",
            "121/121 [==============================] - 1s 12ms/step - loss: 0.0196 - accuracy: 0.9943\n",
            "Epoch 9/10\n",
            "121/121 [==============================] - 1s 12ms/step - loss: 0.0181 - accuracy: 0.9933\n",
            "Epoch 10/10\n",
            "121/121 [==============================] - 1s 12ms/step - loss: 0.0096 - accuracy: 0.9964\n",
            "16/16 [==============================] - 0s 8ms/step - loss: 3.9138 - accuracy: 0.6680\n",
            "super group 1 : AD =  0.013577719529469809\n"
          ]
        },
        {
          "output_type": "execute_result",
          "data": {
            "text/plain": [
              "38051"
            ]
          },
          "metadata": {},
          "execution_count": 87
        }
      ]
    },
    {
      "cell_type": "code",
      "source": [
        "va_list=[va_g0,va_g1]"
      ],
      "metadata": {
        "id": "HV9DcvtNt2AX"
      },
      "execution_count": 88,
      "outputs": []
    },
    {
      "cell_type": "code",
      "source": [
        "print(\"Accuracy of root node :\",va1*100)\n",
        "for i in range(2):\n",
        "    if va_list[i]>va1:\n",
        "        print(\"Supergroup \",i,\" has improved. From \",va1*100,\"% to \",va_list[i]*100,\"%\")"
      ],
      "metadata": {
        "id": "6tb-GW8Kt-KG",
        "colab": {
          "base_uri": "https://localhost:8080/"
        },
        "outputId": "d044d529-78b1-4293-cec0-57b0c071c460"
      },
      "execution_count": 89,
      "outputs": [
        {
          "output_type": "stream",
          "name": "stdout",
          "text": [
            "Accuracy of root node : 62.72912621498108\n",
            "Supergroup  1  has improved. From  62.72912621498108 % to  66.80244207382202 %\n"
          ]
        }
      ]
    }
  ]
}